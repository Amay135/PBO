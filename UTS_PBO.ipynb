{
  "cells": [
    {
      "cell_type": "markdown",
      "metadata": {
        "id": "view-in-github",
        "colab_type": "text"
      },
      "source": [
        "<a href=\"https://colab.research.google.com/github/Amay135/PBO/blob/main/UTS_PBO.ipynb\" target=\"_parent\"><img src=\"https://colab.research.google.com/assets/colab-badge.svg\" alt=\"Open In Colab\"/></a>"
      ]
    },
    {
      "cell_type": "code",
      "execution_count": null,
      "metadata": {
        "colab": {
          "background_save": true,
          "base_uri": "https://localhost:8080/"
        },
        "id": "Yo0CBKO5XJ3x",
        "outputId": "73885e97-b178-4439-c8f1-9792f73c6c23"
      },
      "outputs": [
        {
          "name": "stdout",
          "output_type": "stream",
          "text": [
            "mobil Toyota Camry dari tahun 2010 dibuat.\n",
            "Jumalah Roda: 4\n",
            "Car age: 14 years\n"
          ]
        }
      ],
      "source": [
        "# Class\n",
        "class Car:\n",
        "    # Class variable\n",
        "    number_of_wheels = 4\n",
        "\n",
        "    # Constructor method\n",
        "    def __init__(self, brand, model, year):\n",
        "        # Instance variables\n",
        "        self.brand = brand\n",
        "        self.model = model\n",
        "        self.year = year\n",
        "\n",
        "    # Method\n",
        "    def display_info(self):\n",
        "        return f\"mobil {self.brand} {self.model} dari tahun {self.year} dibuat.\"\n",
        "\n",
        "    # Encapsulation: Private method\n",
        "    def __calculate_age(self):\n",
        "        current_year = 2024\n",
        "        return current_year - self.year\n",
        "\n",
        "    # Public method to access the private method\n",
        "    def get_age(self):\n",
        "        return self.__calculate_age()\n",
        "\n",
        "# Object\n",
        "my_car = Car(\"Toyota\", \"Camry\", 2010)\n",
        "\n",
        "# Accessing instance variable and method\n",
        "print(my_car.display_info())  # Output: 2010 Toyota Camry\n",
        "\n",
        "# Accessing class variable\n",
        "print(f\"Number of wheels: {Car.number_of_wheels}\")  # Output: Number of wheels: 4\n",
        "\n",
        "# Accessing encapsulated data through public method\n",
        "print(f\"Car age: {my_car.get_age()} years\")  # Output: Car age: 14 years\n"
      ]
    },
    {
      "cell_type": "code",
      "execution_count": null,
      "metadata": {
        "colab": {
          "base_uri": "https://localhost:8080/"
        },
        "id": "HaPr0LykXUfQ",
        "outputId": "770f1fd1-c481-4b51-e009-2569aa85cb37"
      },
      "outputs": [
        {
          "name": "stdout",
          "output_type": "stream",
          "text": [
            "60\n",
            "Toyota sedang berjalan dengan kecepatan 60 km/jam.\n",
            "Honda sedang berhenti.\n",
            "Toyota telah berhenti.\n",
            "Toyota sedang berhenti.\n",
            "Total mobil yang telah dibuat: 2\n"
          ]
        }
      ],
      "source": [
        "class Mobil:\n",
        "    # Class variable\n",
        "    jumlah_mobil = 0  # Menyimpan jumlah total mobil yang telah dibuat\n",
        "\n",
        "    def __init__(self, merek, warna):\n",
        "        # Instance variables\n",
        "        self.merek = merek\n",
        "        self.warna = warna\n",
        "        self.__kecepatan = 0  # Encapsulation: Kecepatan disembunyikan (private)\n",
        "\n",
        "        Mobil.jumlah_mobil += 1  # Tambahkan jumlah mobil setiap kali objek dibuat\n",
        "\n",
        "    # Method untuk mengakses variabel kecepatan secara aman (Encapsulation)\n",
        "    def set_kecepatan(self, kecepatan):\n",
        "        if kecepatan >= 0:  # Pastikan kecepatan bernilai positif\n",
        "            self.__kecepatan = kecepatan\n",
        "        else:\n",
        "            print(\"Kecepatan tidak bisa bernilai negatif!\")\n",
        "\n",
        "    def get_kecepatan(self):\n",
        "        return self.__kecepatan\n",
        "\n",
        "    # Method untuk menjalankan mobil\n",
        "    def jalankan(self):\n",
        "        if self.__kecepatan > 0:\n",
        "            print(f\"{self.merek} sedang berjalan dengan kecepatan {self.__kecepatan} km/jam.\")\n",
        "        else:\n",
        "            print(f\"{self.merek} sedang berhenti.\")\n",
        "\n",
        "    # Method untuk menghentikan mobil\n",
        "    def berhenti(self):\n",
        "        self.__kecepatan = 0\n",
        "        print(f\"{self.merek} telah berhenti.\")\n",
        "\n",
        "    # Class method untuk mendapatkan jumlah total mobil\n",
        "    @classmethod\n",
        "    def total_mobil(cls):\n",
        "        return f\"Total mobil yang telah dibuat: {cls.jumlah_mobil}\"\n",
        "\n",
        "\n",
        "# Membuat objek dari class Mobil\n",
        "mobilA = Mobil(\"Toyota\", \"Merah\")\n",
        "mobilB = Mobil(\"Honda\", \"Biru\")\n",
        "\n",
        "# Menggunakan method untuk mengatur dan mendapatkan kecepatan (Encapsulation)\n",
        "mobilA.set_kecepatan(60)\n",
        "print(mobilA.get_kecepatan())  # Output: 60\n",
        "\n",
        "# Menjalankan method\n",
        "mobilA.jalankan()  # Output: Toyota sedang berjalan dengan kecepatan 60 km/jam.\n",
        "mobilB.jalankan()  # Output: Honda sedang berhenti.\n",
        "\n",
        "# Menghentikan mobil\n",
        "mobilA.berhenti()  # Output: Toyota telah berhenti.\n",
        "mobilA.jalankan()  # Output: Toyota sedang berhenti.\n",
        "\n",
        "# Mengakses class variable melalui class method\n",
        "print(Mobil.total_mobil())  # Output: Total mobil yang telah dibuat: 2\n"
      ]
    }
  ],
  "metadata": {
    "colab": {
      "provenance": [],
      "authorship_tag": "ABX9TyP2f7isx6xnODqaMsjN12c+",
      "include_colab_link": true
    },
    "kernelspec": {
      "display_name": "Python 3",
      "name": "python3"
    },
    "language_info": {
      "name": "python"
    }
  },
  "nbformat": 4,
  "nbformat_minor": 0
}