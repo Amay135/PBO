{
  "nbformat": 4,
  "nbformat_minor": 0,
  "metadata": {
    "colab": {
      "provenance": [],
      "authorship_tag": "ABX9TyNTvsXrRHVPKcfkXs8CaBze",
      "include_colab_link": true
    },
    "kernelspec": {
      "name": "python3",
      "display_name": "Python 3"
    },
    "language_info": {
      "name": "python"
    }
  },
  "cells": [
    {
      "cell_type": "markdown",
      "metadata": {
        "id": "view-in-github",
        "colab_type": "text"
      },
      "source": [
        "<a href=\"https://colab.research.google.com/github/Amay135/PBO/blob/main/Praktikum_7_Inheritance.ipynb\" target=\"_parent\"><img src=\"https://colab.research.google.com/assets/colab-badge.svg\" alt=\"Open In Colab\"/></a>"
      ]
    },
    {
      "cell_type": "markdown",
      "source": [
        "**Contoh Inheritance**"
      ],
      "metadata": {
        "id": "rR2xN0yuwXCL"
      }
    },
    {
      "cell_type": "code",
      "source": [
        "#kelas induk\n",
        "class Animal:\n",
        "  def __init__ (self, name):\n",
        "    self.name = name\n",
        "\n",
        "  def sound(self):\n",
        "    return \"Animal sound\"\n",
        "\n",
        "#kalas anak\n",
        "class Dog(Animal):\n",
        "  def sound(self):\n",
        "    return \"Woof! Woof!\"\n",
        "\n",
        "# Membuat objek\n",
        "animal = Animal(\"Generic Animal\")\n",
        "dog = Dog(\"Buddy\")\n",
        "\n",
        "# Menggunakan Objek\n",
        "print(animal.sound())\n",
        "print(dog.sound())"
      ],
      "metadata": {
        "colab": {
          "base_uri": "https://localhost:8080/"
        },
        "id": "8IpywSKdu-e_",
        "outputId": "2e221a23-1763-4c0c-a6ce-8997cd50b164"
      },
      "execution_count": 17,
      "outputs": [
        {
          "output_type": "stream",
          "name": "stdout",
          "text": [
            "Animal sound\n",
            "Woof! Woof!\n"
          ]
        }
      ]
    },
    {
      "cell_type": "markdown",
      "source": [
        "**1. Game Tebak Angka**"
      ],
      "metadata": {
        "id": "aNkB__QAuosx"
      }
    },
    {
      "cell_type": "code",
      "source": [
        "import random\n",
        "# Base Class\n",
        "class Game:\n",
        "    def __init__(self, title):\n",
        "        self.title = title\n",
        "    def start(self):\n",
        "        print(f\"Memulai game: {self.title}\")\n",
        "    def end(self):\n",
        "        print(\"Game berakhir. Terima kasih sudah bermain!\")\n",
        "# Derived Class\n",
        "class TebakAngka (Game):\n",
        "    def __init__(self, title, max_attempts=10):\n",
        "        super().__init__(title)\n",
        "        self.max_attempts = max_attempts\n",
        "        self.target_number = random.randint(1, 100)\n",
        "    def play(self):\n",
        "        self.start()\n",
        "        attempts = 0\n",
        "        while attempts < self.max_attempts:\n",
        "            guess = int(input(\"Tebak angka antara 1 sampai 100: \"))\n",
        "            if guess == self.target_number:\n",
        "                print(\"Selamat! Tebakan Anda benar.\")\n",
        "                break\n",
        "            elif guess < self.target_number:\n",
        "                print(\"Terlalu rendah!\")\n",
        "            else:\n",
        "                print(\"Terlalu tinggi!\")\n",
        "            attempts += 1\n",
        "        else:\n",
        "            print(f\"Maaf, Anda kalah. Angka yang benar adalah {self.target_number}.\")\n",
        "        self.end()\n",
        "# Game initiation\n",
        "game = TebakAngka (\"Tebak Angka\")\n",
        "game.play()"
      ],
      "metadata": {
        "colab": {
          "base_uri": "https://localhost:8080/"
        },
        "id": "VJnmEn5DoXiD",
        "outputId": "27c5095b-0d8b-4c48-a350-2fe1fb765492"
      },
      "execution_count": 3,
      "outputs": [
        {
          "output_type": "stream",
          "name": "stdout",
          "text": [
            "Memulai game: Tebak Angka\n",
            "Tebak angka antara 1 sampai 100: 50\n",
            "Terlalu tinggi!\n",
            "Tebak angka antara 1 sampai 100: 32\n",
            "Terlalu rendah!\n",
            "Tebak angka antara 1 sampai 100: 35\n",
            "Terlalu rendah!\n",
            "Tebak angka antara 1 sampai 100: 40\n",
            "Terlalu rendah!\n",
            "Tebak angka antara 1 sampai 100: 38\n",
            "Terlalu rendah!\n",
            "Tebak angka antara 1 sampai 100: 39\n",
            "Terlalu rendah!\n",
            "Tebak angka antara 1 sampai 100: 45\n",
            "Terlalu rendah!\n",
            "Tebak angka antara 1 sampai 100: 48\n",
            "Terlalu tinggi!\n",
            "Tebak angka antara 1 sampai 100: 47\n",
            "Terlalu tinggi!\n",
            "Tebak angka antara 1 sampai 100: 46\n",
            "Selamat! Tebakan Anda benar.\n",
            "Game berakhir. Terima kasih sudah bermain!\n"
          ]
        }
      ]
    },
    {
      "cell_type": "markdown",
      "source": [
        "**2. Game Petualangan Sederhana**"
      ],
      "metadata": {
        "id": "DkEWi6vhuyi7"
      }
    },
    {
      "cell_type": "code",
      "execution_count": 13,
      "metadata": {
        "colab": {
          "base_uri": "https://localhost:8080/"
        },
        "id": "AxGk0I0im4Pm",
        "outputId": "a4e67cd8-418d-4ae0-f1c8-9f6e81782b0b"
      },
      "outputs": [
        {
          "output_type": "stream",
          "name": "stdout",
          "text": [
            "Pilih jenis petualangan ('fight' untuk melawan musuh, 'obstacle' untuk menghidari rintangan): obstacle\n",
            "Memulai game: menghidari rintangan\n",
            "Rintangan 1! ketik 'lompat' untuk melompati rintangan atau 'merunduk' untuk menghidari: lompat\n",
            "Berhasil menghindari rintangan 1!\n",
            "Rintangan 2! ketik 'lompat' untuk melompati rintangan atau 'merunduk' untuk menghidari: merunduk\n",
            "Berhasil menghindari rintangan 2!\n",
            "Rintangan 3! ketik 'lompat' untuk melompati rintangan atau 'merunduk' untuk menghidari: lompat\n",
            "Berhasil menghindari rintangan 3!\n",
            "Selamat Anda berhasil melewati semua rintangan.\n",
            "Petualangan berakhir. Terima kasih sudah bermain!\n"
          ]
        }
      ],
      "source": [
        "import random\n",
        "\n",
        "# Base Class\n",
        "class AdventureGame:\n",
        "    def __init__(self, title):\n",
        "        self.title = title\n",
        "\n",
        "    def start(self):\n",
        "        print(f\"Memulai game: {self.title}\")\n",
        "\n",
        "    def end(self):\n",
        "        print(\"Petualangan berakhir. Terima kasih sudah bermain!\")\n",
        "\n",
        "# Derived Class 1\n",
        "class FightEnemy(AdventureGame):\n",
        "    def __init__(self, title, player_health=100):\n",
        "        super().__init__(title)\n",
        "        self.player_health = player_health\n",
        "        self.enemy_health = 50\n",
        "\n",
        "    def play(self):\n",
        "        self.start()\n",
        "        while self.player_health > 0 and self.enemy_health > 0:\n",
        "            action = input(\"Ketik 'serang' untuk menyerang musuh atau 'heal' untuk memulihkan diri: \")\n",
        "            if action == 'serang':\n",
        "                damage = random.randint(10, 20)\n",
        "                self.enemy_health -= damage\n",
        "                print(f\"Anda menyerang musuh dan menyebabkan {damage} damage. Health musuh sekarang: {self.enemy_health}\")\n",
        "            elif action == 'heal':\n",
        "                heal = random.randint(5, 15)\n",
        "                self.player_health += heal\n",
        "                print(f\"Anda memulihkan diri sebanyak {heal}. Health Anda sekarang: {self.player_health}\")\n",
        "\n",
        "            # Enemy's turn\n",
        "            if self.enemy_health > 0:\n",
        "                enemy_damage = random.randint(5, 15)\n",
        "                self.player_health -= enemy_damage\n",
        "                print(f\"Musuh menyerang Anda dan menyebabkan {enemy_damage} damage. Health Anda sekarang: {self.player_health}\")\n",
        "\n",
        "        if self.player_health > 0:\n",
        "            print(\"Selamat! Anda berhasil mengalahkan musuh.\")\n",
        "        else:\n",
        "            print(\"Anda kalah! Musuh berhasil mengalahkan Anda.\")\n",
        "        self.end()\n",
        "\n",
        "# Derived Class 2\n",
        "class AvoidObstacle(AdventureGame):\n",
        "    def __init__(self, title, obstacles=3):\n",
        "        super().__init__(title)\n",
        "        self.obstacles = obstacles\n",
        "\n",
        "    def play(self):\n",
        "        self.start()\n",
        "        for i in range(1, self.obstacles + 1):\n",
        "            action = input(f\"Rintangan {i}! ketik 'lompat' untuk melompati rintangan atau 'merunduk' untuk menghidari: \")\n",
        "            if action not in ['lompat', 'merunduk']:\n",
        "                print(\"Aksi tidak kenal. Anda gagal menghindari rintangan.\")\n",
        "                break\n",
        "            print(f\"Berhasil menghindari rintangan {i}!\")\n",
        "        else:\n",
        "            print(\"Selamat Anda berhasil melewati semua rintangan.\")\n",
        "        self.end()\n",
        "\n",
        "#game initiation\n",
        "game_type = input(\"Pilih jenis petualangan ('fight' untuk melawan musuh, 'obstacle' untuk menghidari rintangan): \")\n",
        "\n",
        "if game_type == 'fight':\n",
        "  game = FightEnemy(\"melawan musuh\")\n",
        "elif game_type == 'obstacle':\n",
        "  game = AvoidObstacle(\"menghidari rintangan\")\n",
        "else:\n",
        "  print(\"Jenis petualangan tidak dikenal.\")\n",
        "  game = None\n",
        "\n",
        "if game:\n",
        "  game.play()"
      ]
    }
  ]
}